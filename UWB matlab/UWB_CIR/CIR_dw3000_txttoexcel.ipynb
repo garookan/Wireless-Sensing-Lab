{
 "cells": [
  {
   "cell_type": "code",
   "execution_count": 7,
   "id": "ee22d630",
   "metadata": {},
   "outputs": [],
   "source": [
    "import pandas as pd\n",
    "from imutils import paths\n",
    "\n",
    "exceldir=\"C:\\\\Users\\\\yms06\\\\Desktop\\\\dw1000_CIR_1s.xlsx\"\n",
    "excelfile = pd.ExcelWriter(exceldir,engine='xlsxwriter')\n",
    "\n",
    "txtdir=\"C:\\\\Users\\\\yms06\\\\Desktop\\\\dw3000_CIR\\\\dw3000_with_dw1000\\\\시간간격별\\\\1s_150_CIR.txt\"\n",
    "\n",
    "rflag=0\n",
    "CIR=[]\n",
    "rows=open(txtdir, encoding='UTF-8').read().strip() #한 줄\n",
    "if \"\\n\" in rows :\n",
    "    for i in range(50,100):\n",
    "        s_rows=rows.split(\"\\n\")[i]\n",
    "        CIR.append(s_rows.split(\"|\"))\n",
    "#print(CIR[rflag-1])\n",
    "        CIR_df=pd.DataFrame(CIR[rflag])\n",
    "        CIR_df.to_excel(excelfile, sheet_name='0.001s_150',startrow=0,startcol=rflag*2,index=False, header=False)\n",
    "        rflag+=1\n",
    "        \n",
    "excelfile.save()\n",
    "excelfile.close()"
   ]
  },
  {
   "cell_type": "code",
   "execution_count": null,
   "id": "40a6fe87",
   "metadata": {},
   "outputs": [],
   "source": []
  },
  {
   "cell_type": "code",
   "execution_count": null,
   "id": "11d55b5a",
   "metadata": {},
   "outputs": [],
   "source": []
  }
 ],
 "metadata": {
  "kernelspec": {
   "display_name": "Python 3 (ipykernel)",
   "language": "python",
   "name": "python3"
  },
  "language_info": {
   "codemirror_mode": {
    "name": "ipython",
    "version": 3
   },
   "file_extension": ".py",
   "mimetype": "text/x-python",
   "name": "python",
   "nbconvert_exporter": "python",
   "pygments_lexer": "ipython3",
   "version": "3.7.13"
  }
 },
 "nbformat": 4,
 "nbformat_minor": 5
}
